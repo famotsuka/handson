{
  "cells": [
    {
      "cell_type": "markdown",
      "id": "f160bbd2",
      "metadata": {
        "id": "f160bbd2"
      },
      "source": [
        "Notebook to run the hands-on scripts to generate inputs file for double mutagenesis mutations using the automated pipetting biomek."
      ]
    },
    {
      "cell_type": "code",
      "execution_count": null,
      "id": "be673e86",
      "metadata": {
        "vscode": {
          "languageId": "plaintext"
        },
        "colab": {
          "base_uri": "https://localhost:8080/"
        },
        "id": "be673e86",
        "outputId": "b0a9f4a2-8830-4c9b-f893-53986b5edf77"
      },
      "outputs": [
        {
          "output_type": "stream",
          "name": "stdout",
          "text": [
            "Drive already mounted at /content/drive; to attempt to forcibly remount, call drive.mount(\"/content/drive\", force_remount=True).\n"
          ]
        }
      ],
      "source": [
        "# Mount Google Drive\n",
        "from google.colab import drive\n",
        "drive.mount('/content/drive')"
      ]
    },
    {
      "cell_type": "code",
      "execution_count": null,
      "id": "52f67b39",
      "metadata": {
        "vscode": {
          "languageId": "plaintext"
        },
        "colab": {
          "base_uri": "https://localhost:8080/"
        },
        "id": "52f67b39",
        "outputId": "2513662d-ba7e-4968-e31b-719a514c346d"
      },
      "outputs": [
        {
          "output_type": "stream",
          "name": "stdout",
          "text": [
            "ddlA_Ecoli.fasta      main.py\t\toutputs\t\tuv.lock\n",
            "IDT_Plate_Specs.csv   mix_primers.py\t__pycache__\n",
            "IDT_Plate_Specs.xlsx  mutant_sequences\tpyproject.toml\n"
          ]
        }
      ],
      "source": [
        "# Go to the \"hands_on\" directory\n",
        "import os\n",
        "\n",
        "# Set path to your project folder inside Google Drive\n",
        "project_path = \"/content/drive/MyDrive/Lund_Andres_Lab/hands_on\"\n",
        "\n",
        "# Change working directory\n",
        "os.chdir(project_path)\n",
        "\n",
        "# Verify\n",
        "!ls"
      ]
    },
    {
      "cell_type": "code",
      "source": [
        "# Create the 'outputs' folder that will have the inputs file for the Biomek\n",
        "outputs_path = os.path.join(project_path, \"outputs\")\n",
        "os.makedirs(outputs_path, exist_ok=True)\n",
        "\n",
        "print(f\"'outputs' folder is ready at: {outputs_path}\")"
      ],
      "metadata": {
        "colab": {
          "base_uri": "https://localhost:8080/"
        },
        "id": "gtOXYS_w8i9s",
        "outputId": "70fe6715-2cd4-4afd-aa5c-7c13cb231dd2"
      },
      "id": "gtOXYS_w8i9s",
      "execution_count": null,
      "outputs": [
        {
          "output_type": "stream",
          "name": "stdout",
          "text": [
            "✅ 'outputs' folder is ready at: /content/drive/MyDrive/Lund_Andres_Lab/hands_on/outputs\n"
          ]
        }
      ]
    },
    {
      "cell_type": "code",
      "source": [
        "!pip install biopython pandas numpy"
      ],
      "metadata": {
        "colab": {
          "base_uri": "https://localhost:8080/"
        },
        "id": "4FGmk1FJ_wvU",
        "outputId": "fad3c5b0-a101-4e1f-b8ff-25eb7a8db162"
      },
      "id": "4FGmk1FJ_wvU",
      "execution_count": null,
      "outputs": [
        {
          "output_type": "stream",
          "name": "stdout",
          "text": [
            "Requirement already satisfied: biopython in /usr/local/lib/python3.11/dist-packages (1.85)\n",
            "Requirement already satisfied: pandas in /usr/local/lib/python3.11/dist-packages (2.2.2)\n",
            "Requirement already satisfied: numpy in /usr/local/lib/python3.11/dist-packages (2.0.2)\n",
            "Requirement already satisfied: python-dateutil>=2.8.2 in /usr/local/lib/python3.11/dist-packages (from pandas) (2.9.0.post0)\n",
            "Requirement already satisfied: pytz>=2020.1 in /usr/local/lib/python3.11/dist-packages (from pandas) (2025.2)\n",
            "Requirement already satisfied: tzdata>=2022.7 in /usr/local/lib/python3.11/dist-packages (from pandas) (2025.2)\n",
            "Requirement already satisfied: six>=1.5 in /usr/local/lib/python3.11/dist-packages (from python-dateutil>=2.8.2->pandas) (1.17.0)\n"
          ]
        }
      ]
    },
    {
      "cell_type": "code",
      "source": [
        "# See what files we have in our main folder\n",
        "!ls"
      ],
      "metadata": {
        "colab": {
          "base_uri": "https://localhost:8080/"
        },
        "id": "trfNFrncHcQC",
        "outputId": "2d60c6fe-08f2-4eda-ba0a-3bfea0c6800c"
      },
      "id": "trfNFrncHcQC",
      "execution_count": null,
      "outputs": [
        {
          "output_type": "stream",
          "name": "stdout",
          "text": [
            "ddlA_Ecoli.fasta      main.py\t\toutputs\t\tuv.lock\n",
            "IDT_Plate_Specs.csv   mix_primers.py\t__pycache__\n",
            "IDT_Plate_Specs.xlsx  mutant_sequences\tpyproject.toml\n"
          ]
        }
      ]
    },
    {
      "cell_type": "code",
      "source": [
        "# See the files from our mutated sequences:\n",
        "!ls mutant_sequences/"
      ],
      "metadata": {
        "colab": {
          "base_uri": "https://localhost:8080/"
        },
        "id": "1-unADxYDpLU",
        "outputId": "45cf9b0c-26a2-4f3e-886c-a174e0bb4497"
      },
      "id": "1-unADxYDpLU",
      "execution_count": null,
      "outputs": [
        {
          "output_type": "stream",
          "name": "stdout",
          "text": [
            "ddlA_frag.fa\t  dual_mutants.fa  syn_dual_muts.py\n",
            "dual_mutants.csv  dual_muts.txt\n"
          ]
        }
      ]
    },
    {
      "cell_type": "code",
      "source": [
        "# generate the mutated fragments of your gene\n",
        "!python mutant_sequences/syn_dual_muts.py"
      ],
      "metadata": {
        "colab": {
          "base_uri": "https://localhost:8080/"
        },
        "id": "F_JsthhDC5Bf",
        "outputId": "357a269e-ac88-43b5-945f-48a6ddea3bc0"
      },
      "id": "F_JsthhDC5Bf",
      "execution_count": null,
      "outputs": [
        {
          "output_type": "stream",
          "name": "stdout",
          "text": [
            "\n",
            " Protein sequences of your double mutants:\n",
            "ddlA_40L_TTA_52S_TCT | Protein: MEKLRVGIVFGGKSAEHEVSLQSAKNIVDAIDKSRFDVVLLGIDKQGQWHVSDASNYLLNADDPAHIALRPSATSLAQVPGKHEHQLIDAQNGQPLPTVDVIFPIVHGTLGEDGSLQGMLRVANLPFVGSDVLASAACMDKDVTKRLLRDAGLNIAPFITLTRANRHNISFAEVESKLGLPLFVKPANQGSSVGVSKVTSEEQYAIAVDLAFEFDHKVIVEQGIKGREIECAVLGNDNPQASTCGEIVLTSDFYAYDTKYIDEDGAKVVVPAAIAPEINDKIRAIAVQAYQTLGCAGMARVDVFLTPENEVVINEINTLPGFTNISMYPKLWQASGLGYTDLITRLIELALERHAADNALKTTMAA\n",
            "ddlA_40L_TTA_52S_TCC | Protein: MEKLRVGIVFGGKSAEHEVSLQSAKNIVDAIDKSRFDVVLLGIDKQGQWHVSDASNYLLNADDPAHIALRPSATSLAQVPGKHEHQLIDAQNGQPLPTVDVIFPIVHGTLGEDGSLQGMLRVANLPFVGSDVLASAACMDKDVTKRLLRDAGLNIAPFITLTRANRHNISFAEVESKLGLPLFVKPANQGSSVGVSKVTSEEQYAIAVDLAFEFDHKVIVEQGIKGREIECAVLGNDNPQASTCGEIVLTSDFYAYDTKYIDEDGAKVVVPAAIAPEINDKIRAIAVQAYQTLGCAGMARVDVFLTPENEVVINEINTLPGFTNISMYPKLWQASGLGYTDLITRLIELALERHAADNALKTTMAA\n",
            "ddlA_40L_TTA_52S_TCA | Protein: MEKLRVGIVFGGKSAEHEVSLQSAKNIVDAIDKSRFDVVLLGIDKQGQWHVSDASNYLLNADDPAHIALRPSATSLAQVPGKHEHQLIDAQNGQPLPTVDVIFPIVHGTLGEDGSLQGMLRVANLPFVGSDVLASAACMDKDVTKRLLRDAGLNIAPFITLTRANRHNISFAEVESKLGLPLFVKPANQGSSVGVSKVTSEEQYAIAVDLAFEFDHKVIVEQGIKGREIECAVLGNDNPQASTCGEIVLTSDFYAYDTKYIDEDGAKVVVPAAIAPEINDKIRAIAVQAYQTLGCAGMARVDVFLTPENEVVINEINTLPGFTNISMYPKLWQASGLGYTDLITRLIELALERHAADNALKTTMAA\n",
            "ddlA_40L_TTA_52S_TCG | Protein: MEKLRVGIVFGGKSAEHEVSLQSAKNIVDAIDKSRFDVVLLGIDKQGQWHVSDASNYLLNADDPAHIALRPSATSLAQVPGKHEHQLIDAQNGQPLPTVDVIFPIVHGTLGEDGSLQGMLRVANLPFVGSDVLASAACMDKDVTKRLLRDAGLNIAPFITLTRANRHNISFAEVESKLGLPLFVKPANQGSSVGVSKVTSEEQYAIAVDLAFEFDHKVIVEQGIKGREIECAVLGNDNPQASTCGEIVLTSDFYAYDTKYIDEDGAKVVVPAAIAPEINDKIRAIAVQAYQTLGCAGMARVDVFLTPENEVVINEINTLPGFTNISMYPKLWQASGLGYTDLITRLIELALERHAADNALKTTMAA\n",
            "ddlA_40L_TTA_52S_AGT | Protein: MEKLRVGIVFGGKSAEHEVSLQSAKNIVDAIDKSRFDVVLLGIDKQGQWHVSDASNYLLNADDPAHIALRPSATSLAQVPGKHEHQLIDAQNGQPLPTVDVIFPIVHGTLGEDGSLQGMLRVANLPFVGSDVLASAACMDKDVTKRLLRDAGLNIAPFITLTRANRHNISFAEVESKLGLPLFVKPANQGSSVGVSKVTSEEQYAIAVDLAFEFDHKVIVEQGIKGREIECAVLGNDNPQASTCGEIVLTSDFYAYDTKYIDEDGAKVVVPAAIAPEINDKIRAIAVQAYQTLGCAGMARVDVFLTPENEVVINEINTLPGFTNISMYPKLWQASGLGYTDLITRLIELALERHAADNALKTTMAA\n",
            "ddlA_40L_TTG_52S_TCT | Protein: MEKLRVGIVFGGKSAEHEVSLQSAKNIVDAIDKSRFDVVLLGIDKQGQWHVSDASNYLLNADDPAHIALRPSATSLAQVPGKHEHQLIDAQNGQPLPTVDVIFPIVHGTLGEDGSLQGMLRVANLPFVGSDVLASAACMDKDVTKRLLRDAGLNIAPFITLTRANRHNISFAEVESKLGLPLFVKPANQGSSVGVSKVTSEEQYAIAVDLAFEFDHKVIVEQGIKGREIECAVLGNDNPQASTCGEIVLTSDFYAYDTKYIDEDGAKVVVPAAIAPEINDKIRAIAVQAYQTLGCAGMARVDVFLTPENEVVINEINTLPGFTNISMYPKLWQASGLGYTDLITRLIELALERHAADNALKTTMAA\n",
            "ddlA_40L_TTG_52S_TCC | Protein: MEKLRVGIVFGGKSAEHEVSLQSAKNIVDAIDKSRFDVVLLGIDKQGQWHVSDASNYLLNADDPAHIALRPSATSLAQVPGKHEHQLIDAQNGQPLPTVDVIFPIVHGTLGEDGSLQGMLRVANLPFVGSDVLASAACMDKDVTKRLLRDAGLNIAPFITLTRANRHNISFAEVESKLGLPLFVKPANQGSSVGVSKVTSEEQYAIAVDLAFEFDHKVIVEQGIKGREIECAVLGNDNPQASTCGEIVLTSDFYAYDTKYIDEDGAKVVVPAAIAPEINDKIRAIAVQAYQTLGCAGMARVDVFLTPENEVVINEINTLPGFTNISMYPKLWQASGLGYTDLITRLIELALERHAADNALKTTMAA\n",
            "ddlA_40L_TTG_52S_TCA | Protein: MEKLRVGIVFGGKSAEHEVSLQSAKNIVDAIDKSRFDVVLLGIDKQGQWHVSDASNYLLNADDPAHIALRPSATSLAQVPGKHEHQLIDAQNGQPLPTVDVIFPIVHGTLGEDGSLQGMLRVANLPFVGSDVLASAACMDKDVTKRLLRDAGLNIAPFITLTRANRHNISFAEVESKLGLPLFVKPANQGSSVGVSKVTSEEQYAIAVDLAFEFDHKVIVEQGIKGREIECAVLGNDNPQASTCGEIVLTSDFYAYDTKYIDEDGAKVVVPAAIAPEINDKIRAIAVQAYQTLGCAGMARVDVFLTPENEVVINEINTLPGFTNISMYPKLWQASGLGYTDLITRLIELALERHAADNALKTTMAA\n",
            "ddlA_40L_TTG_52S_TCG | Protein: MEKLRVGIVFGGKSAEHEVSLQSAKNIVDAIDKSRFDVVLLGIDKQGQWHVSDASNYLLNADDPAHIALRPSATSLAQVPGKHEHQLIDAQNGQPLPTVDVIFPIVHGTLGEDGSLQGMLRVANLPFVGSDVLASAACMDKDVTKRLLRDAGLNIAPFITLTRANRHNISFAEVESKLGLPLFVKPANQGSSVGVSKVTSEEQYAIAVDLAFEFDHKVIVEQGIKGREIECAVLGNDNPQASTCGEIVLTSDFYAYDTKYIDEDGAKVVVPAAIAPEINDKIRAIAVQAYQTLGCAGMARVDVFLTPENEVVINEINTLPGFTNISMYPKLWQASGLGYTDLITRLIELALERHAADNALKTTMAA\n",
            "ddlA_40L_TTG_52S_AGT | Protein: MEKLRVGIVFGGKSAEHEVSLQSAKNIVDAIDKSRFDVVLLGIDKQGQWHVSDASNYLLNADDPAHIALRPSATSLAQVPGKHEHQLIDAQNGQPLPTVDVIFPIVHGTLGEDGSLQGMLRVANLPFVGSDVLASAACMDKDVTKRLLRDAGLNIAPFITLTRANRHNISFAEVESKLGLPLFVKPANQGSSVGVSKVTSEEQYAIAVDLAFEFDHKVIVEQGIKGREIECAVLGNDNPQASTCGEIVLTSDFYAYDTKYIDEDGAKVVVPAAIAPEINDKIRAIAVQAYQTLGCAGMARVDVFLTPENEVVINEINTLPGFTNISMYPKLWQASGLGYTDLITRLIELALERHAADNALKTTMAA\n",
            "ddlA_40L_CTT_52S_TCT | Protein: MEKLRVGIVFGGKSAEHEVSLQSAKNIVDAIDKSRFDVVLLGIDKQGQWHVSDASNYLLNADDPAHIALRPSATSLAQVPGKHEHQLIDAQNGQPLPTVDVIFPIVHGTLGEDGSLQGMLRVANLPFVGSDVLASAACMDKDVTKRLLRDAGLNIAPFITLTRANRHNISFAEVESKLGLPLFVKPANQGSSVGVSKVTSEEQYAIAVDLAFEFDHKVIVEQGIKGREIECAVLGNDNPQASTCGEIVLTSDFYAYDTKYIDEDGAKVVVPAAIAPEINDKIRAIAVQAYQTLGCAGMARVDVFLTPENEVVINEINTLPGFTNISMYPKLWQASGLGYTDLITRLIELALERHAADNALKTTMAA\n",
            "ddlA_40L_CTT_52S_TCC | Protein: MEKLRVGIVFGGKSAEHEVSLQSAKNIVDAIDKSRFDVVLLGIDKQGQWHVSDASNYLLNADDPAHIALRPSATSLAQVPGKHEHQLIDAQNGQPLPTVDVIFPIVHGTLGEDGSLQGMLRVANLPFVGSDVLASAACMDKDVTKRLLRDAGLNIAPFITLTRANRHNISFAEVESKLGLPLFVKPANQGSSVGVSKVTSEEQYAIAVDLAFEFDHKVIVEQGIKGREIECAVLGNDNPQASTCGEIVLTSDFYAYDTKYIDEDGAKVVVPAAIAPEINDKIRAIAVQAYQTLGCAGMARVDVFLTPENEVVINEINTLPGFTNISMYPKLWQASGLGYTDLITRLIELALERHAADNALKTTMAA\n",
            "ddlA_40L_CTT_52S_TCA | Protein: MEKLRVGIVFGGKSAEHEVSLQSAKNIVDAIDKSRFDVVLLGIDKQGQWHVSDASNYLLNADDPAHIALRPSATSLAQVPGKHEHQLIDAQNGQPLPTVDVIFPIVHGTLGEDGSLQGMLRVANLPFVGSDVLASAACMDKDVTKRLLRDAGLNIAPFITLTRANRHNISFAEVESKLGLPLFVKPANQGSSVGVSKVTSEEQYAIAVDLAFEFDHKVIVEQGIKGREIECAVLGNDNPQASTCGEIVLTSDFYAYDTKYIDEDGAKVVVPAAIAPEINDKIRAIAVQAYQTLGCAGMARVDVFLTPENEVVINEINTLPGFTNISMYPKLWQASGLGYTDLITRLIELALERHAADNALKTTMAA\n",
            "ddlA_40L_CTT_52S_TCG | Protein: MEKLRVGIVFGGKSAEHEVSLQSAKNIVDAIDKSRFDVVLLGIDKQGQWHVSDASNYLLNADDPAHIALRPSATSLAQVPGKHEHQLIDAQNGQPLPTVDVIFPIVHGTLGEDGSLQGMLRVANLPFVGSDVLASAACMDKDVTKRLLRDAGLNIAPFITLTRANRHNISFAEVESKLGLPLFVKPANQGSSVGVSKVTSEEQYAIAVDLAFEFDHKVIVEQGIKGREIECAVLGNDNPQASTCGEIVLTSDFYAYDTKYIDEDGAKVVVPAAIAPEINDKIRAIAVQAYQTLGCAGMARVDVFLTPENEVVINEINTLPGFTNISMYPKLWQASGLGYTDLITRLIELALERHAADNALKTTMAA\n",
            "ddlA_40L_CTT_52S_AGT | Protein: MEKLRVGIVFGGKSAEHEVSLQSAKNIVDAIDKSRFDVVLLGIDKQGQWHVSDASNYLLNADDPAHIALRPSATSLAQVPGKHEHQLIDAQNGQPLPTVDVIFPIVHGTLGEDGSLQGMLRVANLPFVGSDVLASAACMDKDVTKRLLRDAGLNIAPFITLTRANRHNISFAEVESKLGLPLFVKPANQGSSVGVSKVTSEEQYAIAVDLAFEFDHKVIVEQGIKGREIECAVLGNDNPQASTCGEIVLTSDFYAYDTKYIDEDGAKVVVPAAIAPEINDKIRAIAVQAYQTLGCAGMARVDVFLTPENEVVINEINTLPGFTNISMYPKLWQASGLGYTDLITRLIELALERHAADNALKTTMAA\n",
            "ddlA_40L_CTC_52S_TCT | Protein: MEKLRVGIVFGGKSAEHEVSLQSAKNIVDAIDKSRFDVVLLGIDKQGQWHVSDASNYLLNADDPAHIALRPSATSLAQVPGKHEHQLIDAQNGQPLPTVDVIFPIVHGTLGEDGSLQGMLRVANLPFVGSDVLASAACMDKDVTKRLLRDAGLNIAPFITLTRANRHNISFAEVESKLGLPLFVKPANQGSSVGVSKVTSEEQYAIAVDLAFEFDHKVIVEQGIKGREIECAVLGNDNPQASTCGEIVLTSDFYAYDTKYIDEDGAKVVVPAAIAPEINDKIRAIAVQAYQTLGCAGMARVDVFLTPENEVVINEINTLPGFTNISMYPKLWQASGLGYTDLITRLIELALERHAADNALKTTMAA\n",
            "ddlA_40L_CTC_52S_TCC | Protein: MEKLRVGIVFGGKSAEHEVSLQSAKNIVDAIDKSRFDVVLLGIDKQGQWHVSDASNYLLNADDPAHIALRPSATSLAQVPGKHEHQLIDAQNGQPLPTVDVIFPIVHGTLGEDGSLQGMLRVANLPFVGSDVLASAACMDKDVTKRLLRDAGLNIAPFITLTRANRHNISFAEVESKLGLPLFVKPANQGSSVGVSKVTSEEQYAIAVDLAFEFDHKVIVEQGIKGREIECAVLGNDNPQASTCGEIVLTSDFYAYDTKYIDEDGAKVVVPAAIAPEINDKIRAIAVQAYQTLGCAGMARVDVFLTPENEVVINEINTLPGFTNISMYPKLWQASGLGYTDLITRLIELALERHAADNALKTTMAA\n",
            "ddlA_40L_CTC_52S_TCA | Protein: MEKLRVGIVFGGKSAEHEVSLQSAKNIVDAIDKSRFDVVLLGIDKQGQWHVSDASNYLLNADDPAHIALRPSATSLAQVPGKHEHQLIDAQNGQPLPTVDVIFPIVHGTLGEDGSLQGMLRVANLPFVGSDVLASAACMDKDVTKRLLRDAGLNIAPFITLTRANRHNISFAEVESKLGLPLFVKPANQGSSVGVSKVTSEEQYAIAVDLAFEFDHKVIVEQGIKGREIECAVLGNDNPQASTCGEIVLTSDFYAYDTKYIDEDGAKVVVPAAIAPEINDKIRAIAVQAYQTLGCAGMARVDVFLTPENEVVINEINTLPGFTNISMYPKLWQASGLGYTDLITRLIELALERHAADNALKTTMAA\n",
            "ddlA_40L_CTC_52S_TCG | Protein: MEKLRVGIVFGGKSAEHEVSLQSAKNIVDAIDKSRFDVVLLGIDKQGQWHVSDASNYLLNADDPAHIALRPSATSLAQVPGKHEHQLIDAQNGQPLPTVDVIFPIVHGTLGEDGSLQGMLRVANLPFVGSDVLASAACMDKDVTKRLLRDAGLNIAPFITLTRANRHNISFAEVESKLGLPLFVKPANQGSSVGVSKVTSEEQYAIAVDLAFEFDHKVIVEQGIKGREIECAVLGNDNPQASTCGEIVLTSDFYAYDTKYIDEDGAKVVVPAAIAPEINDKIRAIAVQAYQTLGCAGMARVDVFLTPENEVVINEINTLPGFTNISMYPKLWQASGLGYTDLITRLIELALERHAADNALKTTMAA\n",
            "ddlA_40L_CTC_52S_AGT | Protein: MEKLRVGIVFGGKSAEHEVSLQSAKNIVDAIDKSRFDVVLLGIDKQGQWHVSDASNYLLNADDPAHIALRPSATSLAQVPGKHEHQLIDAQNGQPLPTVDVIFPIVHGTLGEDGSLQGMLRVANLPFVGSDVLASAACMDKDVTKRLLRDAGLNIAPFITLTRANRHNISFAEVESKLGLPLFVKPANQGSSVGVSKVTSEEQYAIAVDLAFEFDHKVIVEQGIKGREIECAVLGNDNPQASTCGEIVLTSDFYAYDTKYIDEDGAKVVVPAAIAPEINDKIRAIAVQAYQTLGCAGMARVDVFLTPENEVVINEINTLPGFTNISMYPKLWQASGLGYTDLITRLIELALERHAADNALKTTMAA\n",
            "ddlA_40L_CTA_52S_TCT | Protein: MEKLRVGIVFGGKSAEHEVSLQSAKNIVDAIDKSRFDVVLLGIDKQGQWHVSDASNYLLNADDPAHIALRPSATSLAQVPGKHEHQLIDAQNGQPLPTVDVIFPIVHGTLGEDGSLQGMLRVANLPFVGSDVLASAACMDKDVTKRLLRDAGLNIAPFITLTRANRHNISFAEVESKLGLPLFVKPANQGSSVGVSKVTSEEQYAIAVDLAFEFDHKVIVEQGIKGREIECAVLGNDNPQASTCGEIVLTSDFYAYDTKYIDEDGAKVVVPAAIAPEINDKIRAIAVQAYQTLGCAGMARVDVFLTPENEVVINEINTLPGFTNISMYPKLWQASGLGYTDLITRLIELALERHAADNALKTTMAA\n",
            "ddlA_40L_CTA_52S_TCC | Protein: MEKLRVGIVFGGKSAEHEVSLQSAKNIVDAIDKSRFDVVLLGIDKQGQWHVSDASNYLLNADDPAHIALRPSATSLAQVPGKHEHQLIDAQNGQPLPTVDVIFPIVHGTLGEDGSLQGMLRVANLPFVGSDVLASAACMDKDVTKRLLRDAGLNIAPFITLTRANRHNISFAEVESKLGLPLFVKPANQGSSVGVSKVTSEEQYAIAVDLAFEFDHKVIVEQGIKGREIECAVLGNDNPQASTCGEIVLTSDFYAYDTKYIDEDGAKVVVPAAIAPEINDKIRAIAVQAYQTLGCAGMARVDVFLTPENEVVINEINTLPGFTNISMYPKLWQASGLGYTDLITRLIELALERHAADNALKTTMAA\n",
            "ddlA_40L_CTA_52S_TCA | Protein: MEKLRVGIVFGGKSAEHEVSLQSAKNIVDAIDKSRFDVVLLGIDKQGQWHVSDASNYLLNADDPAHIALRPSATSLAQVPGKHEHQLIDAQNGQPLPTVDVIFPIVHGTLGEDGSLQGMLRVANLPFVGSDVLASAACMDKDVTKRLLRDAGLNIAPFITLTRANRHNISFAEVESKLGLPLFVKPANQGSSVGVSKVTSEEQYAIAVDLAFEFDHKVIVEQGIKGREIECAVLGNDNPQASTCGEIVLTSDFYAYDTKYIDEDGAKVVVPAAIAPEINDKIRAIAVQAYQTLGCAGMARVDVFLTPENEVVINEINTLPGFTNISMYPKLWQASGLGYTDLITRLIELALERHAADNALKTTMAA\n",
            "ddlA_40L_CTA_52S_TCG | Protein: MEKLRVGIVFGGKSAEHEVSLQSAKNIVDAIDKSRFDVVLLGIDKQGQWHVSDASNYLLNADDPAHIALRPSATSLAQVPGKHEHQLIDAQNGQPLPTVDVIFPIVHGTLGEDGSLQGMLRVANLPFVGSDVLASAACMDKDVTKRLLRDAGLNIAPFITLTRANRHNISFAEVESKLGLPLFVKPANQGSSVGVSKVTSEEQYAIAVDLAFEFDHKVIVEQGIKGREIECAVLGNDNPQASTCGEIVLTSDFYAYDTKYIDEDGAKVVVPAAIAPEINDKIRAIAVQAYQTLGCAGMARVDVFLTPENEVVINEINTLPGFTNISMYPKLWQASGLGYTDLITRLIELALERHAADNALKTTMAA\n",
            "ddlA_40L_CTA_52S_AGT | Protein: MEKLRVGIVFGGKSAEHEVSLQSAKNIVDAIDKSRFDVVLLGIDKQGQWHVSDASNYLLNADDPAHIALRPSATSLAQVPGKHEHQLIDAQNGQPLPTVDVIFPIVHGTLGEDGSLQGMLRVANLPFVGSDVLASAACMDKDVTKRLLRDAGLNIAPFITLTRANRHNISFAEVESKLGLPLFVKPANQGSSVGVSKVTSEEQYAIAVDLAFEFDHKVIVEQGIKGREIECAVLGNDNPQASTCGEIVLTSDFYAYDTKYIDEDGAKVVVPAAIAPEINDKIRAIAVQAYQTLGCAGMARVDVFLTPENEVVINEINTLPGFTNISMYPKLWQASGLGYTDLITRLIELALERHAADNALKTTMAA\n",
            "\n",
            " Nucleotide sequences of our mutants:\n",
            ">ddlA_40L_TTA_52S_TCT\n",
            "catcatggtctcctatggaaaaactgcgggtaggaatcgtttttggtggtaaatcagcggaacatgaagtgtctctgcaatcggcaaaaaacattgtcgatgccattgataaaagtcgcttcgacgttgtgTTActgggcattgataaacaagggcaatggcacgtcTCTgatgccagcaattatctgctaaatgcagacgatcctgcccatattgcgttgcgcccttcggcgaccagccttgcgcaggtgccaggtaaacatgagcatcagcttatcgacgcgcaaaacggtcagccgttgccgacggtggatgtcattttcccgattgtccacggtacgctgggcgaagatggttccttgcagggaatgctgcgggtcgccaatttaccgtttgtaggttctgatgttctggcttcagcagcctgtatggacaaagatgtcaccaaacgtctgctacgcgatgccgggctgaacattgcgccatttattaccctgacgcgcgccaatcgtcacaacattagttttgccgaagtggagtctaaactggggttaccactgtttgtaaaaccggctaatcagggctcttctgttggtgtcagcaaagtaaccagtgaagaacagtacgcaattgccgtcgatctggcgttcgagttcgatcataaagtgatcgttgagcaagggatcaaaggtcgtgagatcgaatgcgcagttctgggcaacgacaatccgcaagccagcacctgtggagagatcgtactcaccagcgatttctatgcctacgacaccaagtacattgacgaagatggcgcgaaagtggtagttccggcagccattgcgccagaaatcaacgataagatccgggcgattgccgttcaggcttatcaaacgttgggatgcgcaggcatggcgcgtgtagacgtgtttttaaccccagagaacgaagtggtgatcaacgagatcaacaccctgcctggcttcactaatatcagtatgtatccgaagctgtggcaagccagcggtctgggttacaccgatctgatcacacgtttgattgaactggcgctggagcgtcacgctgcggataacgcattgaaaaccacaatggcggccgagaccgtagcc\n",
            ">ddlA_40L_TTA_52S_TCC\n",
            "catcatggtctcctatggaaaaactgcgggtaggaatcgtttttggtggtaaatcagcggaacatgaagtgtctctgcaatcggcaaaaaacattgtcgatgccattgataaaagtcgcttcgacgttgtgTTActgggcattgataaacaagggcaatggcacgtcTCCgatgccagcaattatctgctaaatgcagacgatcctgcccatattgcgttgcgcccttcggcgaccagccttgcgcaggtgccaggtaaacatgagcatcagcttatcgacgcgcaaaacggtcagccgttgccgacggtggatgtcattttcccgattgtccacggtacgctgggcgaagatggttccttgcagggaatgctgcgggtcgccaatttaccgtttgtaggttctgatgttctggcttcagcagcctgtatggacaaagatgtcaccaaacgtctgctacgcgatgccgggctgaacattgcgccatttattaccctgacgcgcgccaatcgtcacaacattagttttgccgaagtggagtctaaactggggttaccactgtttgtaaaaccggctaatcagggctcttctgttggtgtcagcaaagtaaccagtgaagaacagtacgcaattgccgtcgatctggcgttcgagttcgatcataaagtgatcgttgagcaagggatcaaaggtcgtgagatcgaatgcgcagttctgggcaacgacaatccgcaagccagcacctgtggagagatcgtactcaccagcgatttctatgcctacgacaccaagtacattgacgaagatggcgcgaaagtggtagttccggcagccattgcgccagaaatcaacgataagatccgggcgattgccgttcaggcttatcaaacgttgggatgcgcaggcatggcgcgtgtagacgtgtttttaaccccagagaacgaagtggtgatcaacgagatcaacaccctgcctggcttcactaatatcagtatgtatccgaagctgtggcaagccagcggtctgggttacaccgatctgatcacacgtttgattgaactggcgctggagcgtcacgctgcggataacgcattgaaaaccacaatggcggccgagaccgtagcc\n",
            ">ddlA_40L_TTA_52S_TCA\n",
            "catcatggtctcctatggaaaaactgcgggtaggaatcgtttttggtggtaaatcagcggaacatgaagtgtctctgcaatcggcaaaaaacattgtcgatgccattgataaaagtcgcttcgacgttgtgTTActgggcattgataaacaagggcaatggcacgtcTCAgatgccagcaattatctgctaaatgcagacgatcctgcccatattgcgttgcgcccttcggcgaccagccttgcgcaggtgccaggtaaacatgagcatcagcttatcgacgcgcaaaacggtcagccgttgccgacggtggatgtcattttcccgattgtccacggtacgctgggcgaagatggttccttgcagggaatgctgcgggtcgccaatttaccgtttgtaggttctgatgttctggcttcagcagcctgtatggacaaagatgtcaccaaacgtctgctacgcgatgccgggctgaacattgcgccatttattaccctgacgcgcgccaatcgtcacaacattagttttgccgaagtggagtctaaactggggttaccactgtttgtaaaaccggctaatcagggctcttctgttggtgtcagcaaagtaaccagtgaagaacagtacgcaattgccgtcgatctggcgttcgagttcgatcataaagtgatcgttgagcaagggatcaaaggtcgtgagatcgaatgcgcagttctgggcaacgacaatccgcaagccagcacctgtggagagatcgtactcaccagcgatttctatgcctacgacaccaagtacattgacgaagatggcgcgaaagtggtagttccggcagccattgcgccagaaatcaacgataagatccgggcgattgccgttcaggcttatcaaacgttgggatgcgcaggcatggcgcgtgtagacgtgtttttaaccccagagaacgaagtggtgatcaacgagatcaacaccctgcctggcttcactaatatcagtatgtatccgaagctgtggcaagccagcggtctgggttacaccgatctgatcacacgtttgattgaactggcgctggagcgtcacgctgcggataacgcattgaaaaccacaatggcggccgagaccgtagcc\n",
            ">ddlA_40L_TTA_52S_TCG\n",
            "catcatggtctcctatggaaaaactgcgggtaggaatcgtttttggtggtaaatcagcggaacatgaagtgtctctgcaatcggcaaaaaacattgtcgatgccattgataaaagtcgcttcgacgttgtgTTActgggcattgataaacaagggcaatggcacgtcTCGgatgccagcaattatctgctaaatgcagacgatcctgcccatattgcgttgcgcccttcggcgaccagccttgcgcaggtgccaggtaaacatgagcatcagcttatcgacgcgcaaaacggtcagccgttgccgacggtggatgtcattttcccgattgtccacggtacgctgggcgaagatggttccttgcagggaatgctgcgggtcgccaatttaccgtttgtaggttctgatgttctggcttcagcagcctgtatggacaaagatgtcaccaaacgtctgctacgcgatgccgggctgaacattgcgccatttattaccctgacgcgcgccaatcgtcacaacattagttttgccgaagtggagtctaaactggggttaccactgtttgtaaaaccggctaatcagggctcttctgttggtgtcagcaaagtaaccagtgaagaacagtacgcaattgccgtcgatctggcgttcgagttcgatcataaagtgatcgttgagcaagggatcaaaggtcgtgagatcgaatgcgcagttctgggcaacgacaatccgcaagccagcacctgtggagagatcgtactcaccagcgatttctatgcctacgacaccaagtacattgacgaagatggcgcgaaagtggtagttccggcagccattgcgccagaaatcaacgataagatccgggcgattgccgttcaggcttatcaaacgttgggatgcgcaggcatggcgcgtgtagacgtgtttttaaccccagagaacgaagtggtgatcaacgagatcaacaccctgcctggcttcactaatatcagtatgtatccgaagctgtggcaagccagcggtctgggttacaccgatctgatcacacgtttgattgaactggcgctggagcgtcacgctgcggataacgcattgaaaaccacaatggcggccgagaccgtagcc\n",
            ">ddlA_40L_TTA_52S_AGT\n",
            "catcatggtctcctatggaaaaactgcgggtaggaatcgtttttggtggtaaatcagcggaacatgaagtgtctctgcaatcggcaaaaaacattgtcgatgccattgataaaagtcgcttcgacgttgtgTTActgggcattgataaacaagggcaatggcacgtcAGTgatgccagcaattatctgctaaatgcagacgatcctgcccatattgcgttgcgcccttcggcgaccagccttgcgcaggtgccaggtaaacatgagcatcagcttatcgacgcgcaaaacggtcagccgttgccgacggtggatgtcattttcccgattgtccacggtacgctgggcgaagatggttccttgcagggaatgctgcgggtcgccaatttaccgtttgtaggttctgatgttctggcttcagcagcctgtatggacaaagatgtcaccaaacgtctgctacgcgatgccgggctgaacattgcgccatttattaccctgacgcgcgccaatcgtcacaacattagttttgccgaagtggagtctaaactggggttaccactgtttgtaaaaccggctaatcagggctcttctgttggtgtcagcaaagtaaccagtgaagaacagtacgcaattgccgtcgatctggcgttcgagttcgatcataaagtgatcgttgagcaagggatcaaaggtcgtgagatcgaatgcgcagttctgggcaacgacaatccgcaagccagcacctgtggagagatcgtactcaccagcgatttctatgcctacgacaccaagtacattgacgaagatggcgcgaaagtggtagttccggcagccattgcgccagaaatcaacgataagatccgggcgattgccgttcaggcttatcaaacgttgggatgcgcaggcatggcgcgtgtagacgtgtttttaaccccagagaacgaagtggtgatcaacgagatcaacaccctgcctggcttcactaatatcagtatgtatccgaagctgtggcaagccagcggtctgggttacaccgatctgatcacacgtttgattgaactggcgctggagcgtcacgctgcggataacgcattgaaaaccacaatggcggccgagaccgtagcc\n",
            ">ddlA_40L_TTG_52S_TCT\n",
            "catcatggtctcctatggaaaaactgcgggtaggaatcgtttttggtggtaaatcagcggaacatgaagtgtctctgcaatcggcaaaaaacattgtcgatgccattgataaaagtcgcttcgacgttgtgTTGctgggcattgataaacaagggcaatggcacgtcTCTgatgccagcaattatctgctaaatgcagacgatcctgcccatattgcgttgcgcccttcggcgaccagccttgcgcaggtgccaggtaaacatgagcatcagcttatcgacgcgcaaaacggtcagccgttgccgacggtggatgtcattttcccgattgtccacggtacgctgggcgaagatggttccttgcagggaatgctgcgggtcgccaatttaccgtttgtaggttctgatgttctggcttcagcagcctgtatggacaaagatgtcaccaaacgtctgctacgcgatgccgggctgaacattgcgccatttattaccctgacgcgcgccaatcgtcacaacattagttttgccgaagtggagtctaaactggggttaccactgtttgtaaaaccggctaatcagggctcttctgttggtgtcagcaaagtaaccagtgaagaacagtacgcaattgccgtcgatctggcgttcgagttcgatcataaagtgatcgttgagcaagggatcaaaggtcgtgagatcgaatgcgcagttctgggcaacgacaatccgcaagccagcacctgtggagagatcgtactcaccagcgatttctatgcctacgacaccaagtacattgacgaagatggcgcgaaagtggtagttccggcagccattgcgccagaaatcaacgataagatccgggcgattgccgttcaggcttatcaaacgttgggatgcgcaggcatggcgcgtgtagacgtgtttttaaccccagagaacgaagtggtgatcaacgagatcaacaccctgcctggcttcactaatatcagtatgtatccgaagctgtggcaagccagcggtctgggttacaccgatctgatcacacgtttgattgaactggcgctggagcgtcacgctgcggataacgcattgaaaaccacaatggcggccgagaccgtagcc\n",
            ">ddlA_40L_TTG_52S_TCC\n",
            "catcatggtctcctatggaaaaactgcgggtaggaatcgtttttggtggtaaatcagcggaacatgaagtgtctctgcaatcggcaaaaaacattgtcgatgccattgataaaagtcgcttcgacgttgtgTTGctgggcattgataaacaagggcaatggcacgtcTCCgatgccagcaattatctgctaaatgcagacgatcctgcccatattgcgttgcgcccttcggcgaccagccttgcgcaggtgccaggtaaacatgagcatcagcttatcgacgcgcaaaacggtcagccgttgccgacggtggatgtcattttcccgattgtccacggtacgctgggcgaagatggttccttgcagggaatgctgcgggtcgccaatttaccgtttgtaggttctgatgttctggcttcagcagcctgtatggacaaagatgtcaccaaacgtctgctacgcgatgccgggctgaacattgcgccatttattaccctgacgcgcgccaatcgtcacaacattagttttgccgaagtggagtctaaactggggttaccactgtttgtaaaaccggctaatcagggctcttctgttggtgtcagcaaagtaaccagtgaagaacagtacgcaattgccgtcgatctggcgttcgagttcgatcataaagtgatcgttgagcaagggatcaaaggtcgtgagatcgaatgcgcagttctgggcaacgacaatccgcaagccagcacctgtggagagatcgtactcaccagcgatttctatgcctacgacaccaagtacattgacgaagatggcgcgaaagtggtagttccggcagccattgcgccagaaatcaacgataagatccgggcgattgccgttcaggcttatcaaacgttgggatgcgcaggcatggcgcgtgtagacgtgtttttaaccccagagaacgaagtggtgatcaacgagatcaacaccctgcctggcttcactaatatcagtatgtatccgaagctgtggcaagccagcggtctgggttacaccgatctgatcacacgtttgattgaactggcgctggagcgtcacgctgcggataacgcattgaaaaccacaatggcggccgagaccgtagcc\n",
            ">ddlA_40L_TTG_52S_TCA\n",
            "catcatggtctcctatggaaaaactgcgggtaggaatcgtttttggtggtaaatcagcggaacatgaagtgtctctgcaatcggcaaaaaacattgtcgatgccattgataaaagtcgcttcgacgttgtgTTGctgggcattgataaacaagggcaatggcacgtcTCAgatgccagcaattatctgctaaatgcagacgatcctgcccatattgcgttgcgcccttcggcgaccagccttgcgcaggtgccaggtaaacatgagcatcagcttatcgacgcgcaaaacggtcagccgttgccgacggtggatgtcattttcccgattgtccacggtacgctgggcgaagatggttccttgcagggaatgctgcgggtcgccaatttaccgtttgtaggttctgatgttctggcttcagcagcctgtatggacaaagatgtcaccaaacgtctgctacgcgatgccgggctgaacattgcgccatttattaccctgacgcgcgccaatcgtcacaacattagttttgccgaagtggagtctaaactggggttaccactgtttgtaaaaccggctaatcagggctcttctgttggtgtcagcaaagtaaccagtgaagaacagtacgcaattgccgtcgatctggcgttcgagttcgatcataaagtgatcgttgagcaagggatcaaaggtcgtgagatcgaatgcgcagttctgggcaacgacaatccgcaagccagcacctgtggagagatcgtactcaccagcgatttctatgcctacgacaccaagtacattgacgaagatggcgcgaaagtggtagttccggcagccattgcgccagaaatcaacgataagatccgggcgattgccgttcaggcttatcaaacgttgggatgcgcaggcatggcgcgtgtagacgtgtttttaaccccagagaacgaagtggtgatcaacgagatcaacaccctgcctggcttcactaatatcagtatgtatccgaagctgtggcaagccagcggtctgggttacaccgatctgatcacacgtttgattgaactggcgctggagcgtcacgctgcggataacgcattgaaaaccacaatggcggccgagaccgtagcc\n",
            ">ddlA_40L_TTG_52S_TCG\n",
            "catcatggtctcctatggaaaaactgcgggtaggaatcgtttttggtggtaaatcagcggaacatgaagtgtctctgcaatcggcaaaaaacattgtcgatgccattgataaaagtcgcttcgacgttgtgTTGctgggcattgataaacaagggcaatggcacgtcTCGgatgccagcaattatctgctaaatgcagacgatcctgcccatattgcgttgcgcccttcggcgaccagccttgcgcaggtgccaggtaaacatgagcatcagcttatcgacgcgcaaaacggtcagccgttgccgacggtggatgtcattttcccgattgtccacggtacgctgggcgaagatggttccttgcagggaatgctgcgggtcgccaatttaccgtttgtaggttctgatgttctggcttcagcagcctgtatggacaaagatgtcaccaaacgtctgctacgcgatgccgggctgaacattgcgccatttattaccctgacgcgcgccaatcgtcacaacattagttttgccgaagtggagtctaaactggggttaccactgtttgtaaaaccggctaatcagggctcttctgttggtgtcagcaaagtaaccagtgaagaacagtacgcaattgccgtcgatctggcgttcgagttcgatcataaagtgatcgttgagcaagggatcaaaggtcgtgagatcgaatgcgcagttctgggcaacgacaatccgcaagccagcacctgtggagagatcgtactcaccagcgatttctatgcctacgacaccaagtacattgacgaagatggcgcgaaagtggtagttccggcagccattgcgccagaaatcaacgataagatccgggcgattgccgttcaggcttatcaaacgttgggatgcgcaggcatggcgcgtgtagacgtgtttttaaccccagagaacgaagtggtgatcaacgagatcaacaccctgcctggcttcactaatatcagtatgtatccgaagctgtggcaagccagcggtctgggttacaccgatctgatcacacgtttgattgaactggcgctggagcgtcacgctgcggataacgcattgaaaaccacaatggcggccgagaccgtagcc\n",
            ">ddlA_40L_TTG_52S_AGT\n",
            "catcatggtctcctatggaaaaactgcgggtaggaatcgtttttggtggtaaatcagcggaacatgaagtgtctctgcaatcggcaaaaaacattgtcgatgccattgataaaagtcgcttcgacgttgtgTTGctgggcattgataaacaagggcaatggcacgtcAGTgatgccagcaattatctgctaaatgcagacgatcctgcccatattgcgttgcgcccttcggcgaccagccttgcgcaggtgccaggtaaacatgagcatcagcttatcgacgcgcaaaacggtcagccgttgccgacggtggatgtcattttcccgattgtccacggtacgctgggcgaagatggttccttgcagggaatgctgcgggtcgccaatttaccgtttgtaggttctgatgttctggcttcagcagcctgtatggacaaagatgtcaccaaacgtctgctacgcgatgccgggctgaacattgcgccatttattaccctgacgcgcgccaatcgtcacaacattagttttgccgaagtggagtctaaactggggttaccactgtttgtaaaaccggctaatcagggctcttctgttggtgtcagcaaagtaaccagtgaagaacagtacgcaattgccgtcgatctggcgttcgagttcgatcataaagtgatcgttgagcaagggatcaaaggtcgtgagatcgaatgcgcagttctgggcaacgacaatccgcaagccagcacctgtggagagatcgtactcaccagcgatttctatgcctacgacaccaagtacattgacgaagatggcgcgaaagtggtagttccggcagccattgcgccagaaatcaacgataagatccgggcgattgccgttcaggcttatcaaacgttgggatgcgcaggcatggcgcgtgtagacgtgtttttaaccccagagaacgaagtggtgatcaacgagatcaacaccctgcctggcttcactaatatcagtatgtatccgaagctgtggcaagccagcggtctgggttacaccgatctgatcacacgtttgattgaactggcgctggagcgtcacgctgcggataacgcattgaaaaccacaatggcggccgagaccgtagcc\n",
            ">ddlA_40L_CTT_52S_TCT\n",
            "catcatggtctcctatggaaaaactgcgggtaggaatcgtttttggtggtaaatcagcggaacatgaagtgtctctgcaatcggcaaaaaacattgtcgatgccattgataaaagtcgcttcgacgttgtgCTTctgggcattgataaacaagggcaatggcacgtcTCTgatgccagcaattatctgctaaatgcagacgatcctgcccatattgcgttgcgcccttcggcgaccagccttgcgcaggtgccaggtaaacatgagcatcagcttatcgacgcgcaaaacggtcagccgttgccgacggtggatgtcattttcccgattgtccacggtacgctgggcgaagatggttccttgcagggaatgctgcgggtcgccaatttaccgtttgtaggttctgatgttctggcttcagcagcctgtatggacaaagatgtcaccaaacgtctgctacgcgatgccgggctgaacattgcgccatttattaccctgacgcgcgccaatcgtcacaacattagttttgccgaagtggagtctaaactggggttaccactgtttgtaaaaccggctaatcagggctcttctgttggtgtcagcaaagtaaccagtgaagaacagtacgcaattgccgtcgatctggcgttcgagttcgatcataaagtgatcgttgagcaagggatcaaaggtcgtgagatcgaatgcgcagttctgggcaacgacaatccgcaagccagcacctgtggagagatcgtactcaccagcgatttctatgcctacgacaccaagtacattgacgaagatggcgcgaaagtggtagttccggcagccattgcgccagaaatcaacgataagatccgggcgattgccgttcaggcttatcaaacgttgggatgcgcaggcatggcgcgtgtagacgtgtttttaaccccagagaacgaagtggtgatcaacgagatcaacaccctgcctggcttcactaatatcagtatgtatccgaagctgtggcaagccagcggtctgggttacaccgatctgatcacacgtttgattgaactggcgctggagcgtcacgctgcggataacgcattgaaaaccacaatggcggccgagaccgtagcc\n",
            ">ddlA_40L_CTT_52S_TCC\n",
            "catcatggtctcctatggaaaaactgcgggtaggaatcgtttttggtggtaaatcagcggaacatgaagtgtctctgcaatcggcaaaaaacattgtcgatgccattgataaaagtcgcttcgacgttgtgCTTctgggcattgataaacaagggcaatggcacgtcTCCgatgccagcaattatctgctaaatgcagacgatcctgcccatattgcgttgcgcccttcggcgaccagccttgcgcaggtgccaggtaaacatgagcatcagcttatcgacgcgcaaaacggtcagccgttgccgacggtggatgtcattttcccgattgtccacggtacgctgggcgaagatggttccttgcagggaatgctgcgggtcgccaatttaccgtttgtaggttctgatgttctggcttcagcagcctgtatggacaaagatgtcaccaaacgtctgctacgcgatgccgggctgaacattgcgccatttattaccctgacgcgcgccaatcgtcacaacattagttttgccgaagtggagtctaaactggggttaccactgtttgtaaaaccggctaatcagggctcttctgttggtgtcagcaaagtaaccagtgaagaacagtacgcaattgccgtcgatctggcgttcgagttcgatcataaagtgatcgttgagcaagggatcaaaggtcgtgagatcgaatgcgcagttctgggcaacgacaatccgcaagccagcacctgtggagagatcgtactcaccagcgatttctatgcctacgacaccaagtacattgacgaagatggcgcgaaagtggtagttccggcagccattgcgccagaaatcaacgataagatccgggcgattgccgttcaggcttatcaaacgttgggatgcgcaggcatggcgcgtgtagacgtgtttttaaccccagagaacgaagtggtgatcaacgagatcaacaccctgcctggcttcactaatatcagtatgtatccgaagctgtggcaagccagcggtctgggttacaccgatctgatcacacgtttgattgaactggcgctggagcgtcacgctgcggataacgcattgaaaaccacaatggcggccgagaccgtagcc\n",
            ">ddlA_40L_CTT_52S_TCA\n",
            "catcatggtctcctatggaaaaactgcgggtaggaatcgtttttggtggtaaatcagcggaacatgaagtgtctctgcaatcggcaaaaaacattgtcgatgccattgataaaagtcgcttcgacgttgtgCTTctgggcattgataaacaagggcaatggcacgtcTCAgatgccagcaattatctgctaaatgcagacgatcctgcccatattgcgttgcgcccttcggcgaccagccttgcgcaggtgccaggtaaacatgagcatcagcttatcgacgcgcaaaacggtcagccgttgccgacggtggatgtcattttcccgattgtccacggtacgctgggcgaagatggttccttgcagggaatgctgcgggtcgccaatttaccgtttgtaggttctgatgttctggcttcagcagcctgtatggacaaagatgtcaccaaacgtctgctacgcgatgccgggctgaacattgcgccatttattaccctgacgcgcgccaatcgtcacaacattagttttgccgaagtggagtctaaactggggttaccactgtttgtaaaaccggctaatcagggctcttctgttggtgtcagcaaagtaaccagtgaagaacagtacgcaattgccgtcgatctggcgttcgagttcgatcataaagtgatcgttgagcaagggatcaaaggtcgtgagatcgaatgcgcagttctgggcaacgacaatccgcaagccagcacctgtggagagatcgtactcaccagcgatttctatgcctacgacaccaagtacattgacgaagatggcgcgaaagtggtagttccggcagccattgcgccagaaatcaacgataagatccgggcgattgccgttcaggcttatcaaacgttgggatgcgcaggcatggcgcgtgtagacgtgtttttaaccccagagaacgaagtggtgatcaacgagatcaacaccctgcctggcttcactaatatcagtatgtatccgaagctgtggcaagccagcggtctgggttacaccgatctgatcacacgtttgattgaactggcgctggagcgtcacgctgcggataacgcattgaaaaccacaatggcggccgagaccgtagcc\n",
            ">ddlA_40L_CTT_52S_TCG\n",
            "catcatggtctcctatggaaaaactgcgggtaggaatcgtttttggtggtaaatcagcggaacatgaagtgtctctgcaatcggcaaaaaacattgtcgatgccattgataaaagtcgcttcgacgttgtgCTTctgggcattgataaacaagggcaatggcacgtcTCGgatgccagcaattatctgctaaatgcagacgatcctgcccatattgcgttgcgcccttcggcgaccagccttgcgcaggtgccaggtaaacatgagcatcagcttatcgacgcgcaaaacggtcagccgttgccgacggtggatgtcattttcccgattgtccacggtacgctgggcgaagatggttccttgcagggaatgctgcgggtcgccaatttaccgtttgtaggttctgatgttctggcttcagcagcctgtatggacaaagatgtcaccaaacgtctgctacgcgatgccgggctgaacattgcgccatttattaccctgacgcgcgccaatcgtcacaacattagttttgccgaagtggagtctaaactggggttaccactgtttgtaaaaccggctaatcagggctcttctgttggtgtcagcaaagtaaccagtgaagaacagtacgcaattgccgtcgatctggcgttcgagttcgatcataaagtgatcgttgagcaagggatcaaaggtcgtgagatcgaatgcgcagttctgggcaacgacaatccgcaagccagcacctgtggagagatcgtactcaccagcgatttctatgcctacgacaccaagtacattgacgaagatggcgcgaaagtggtagttccggcagccattgcgccagaaatcaacgataagatccgggcgattgccgttcaggcttatcaaacgttgggatgcgcaggcatggcgcgtgtagacgtgtttttaaccccagagaacgaagtggtgatcaacgagatcaacaccctgcctggcttcactaatatcagtatgtatccgaagctgtggcaagccagcggtctgggttacaccgatctgatcacacgtttgattgaactggcgctggagcgtcacgctgcggataacgcattgaaaaccacaatggcggccgagaccgtagcc\n",
            ">ddlA_40L_CTT_52S_AGT\n",
            "catcatggtctcctatggaaaaactgcgggtaggaatcgtttttggtggtaaatcagcggaacatgaagtgtctctgcaatcggcaaaaaacattgtcgatgccattgataaaagtcgcttcgacgttgtgCTTctgggcattgataaacaagggcaatggcacgtcAGTgatgccagcaattatctgctaaatgcagacgatcctgcccatattgcgttgcgcccttcggcgaccagccttgcgcaggtgccaggtaaacatgagcatcagcttatcgacgcgcaaaacggtcagccgttgccgacggtggatgtcattttcccgattgtccacggtacgctgggcgaagatggttccttgcagggaatgctgcgggtcgccaatttaccgtttgtaggttctgatgttctggcttcagcagcctgtatggacaaagatgtcaccaaacgtctgctacgcgatgccgggctgaacattgcgccatttattaccctgacgcgcgccaatcgtcacaacattagttttgccgaagtggagtctaaactggggttaccactgtttgtaaaaccggctaatcagggctcttctgttggtgtcagcaaagtaaccagtgaagaacagtacgcaattgccgtcgatctggcgttcgagttcgatcataaagtgatcgttgagcaagggatcaaaggtcgtgagatcgaatgcgcagttctgggcaacgacaatccgcaagccagcacctgtggagagatcgtactcaccagcgatttctatgcctacgacaccaagtacattgacgaagatggcgcgaaagtggtagttccggcagccattgcgccagaaatcaacgataagatccgggcgattgccgttcaggcttatcaaacgttgggatgcgcaggcatggcgcgtgtagacgtgtttttaaccccagagaacgaagtggtgatcaacgagatcaacaccctgcctggcttcactaatatcagtatgtatccgaagctgtggcaagccagcggtctgggttacaccgatctgatcacacgtttgattgaactggcgctggagcgtcacgctgcggataacgcattgaaaaccacaatggcggccgagaccgtagcc\n",
            ">ddlA_40L_CTC_52S_TCT\n",
            "catcatggtctcctatggaaaaactgcgggtaggaatcgtttttggtggtaaatcagcggaacatgaagtgtctctgcaatcggcaaaaaacattgtcgatgccattgataaaagtcgcttcgacgttgtgCTCctgggcattgataaacaagggcaatggcacgtcTCTgatgccagcaattatctgctaaatgcagacgatcctgcccatattgcgttgcgcccttcggcgaccagccttgcgcaggtgccaggtaaacatgagcatcagcttatcgacgcgcaaaacggtcagccgttgccgacggtggatgtcattttcccgattgtccacggtacgctgggcgaagatggttccttgcagggaatgctgcgggtcgccaatttaccgtttgtaggttctgatgttctggcttcagcagcctgtatggacaaagatgtcaccaaacgtctgctacgcgatgccgggctgaacattgcgccatttattaccctgacgcgcgccaatcgtcacaacattagttttgccgaagtggagtctaaactggggttaccactgtttgtaaaaccggctaatcagggctcttctgttggtgtcagcaaagtaaccagtgaagaacagtacgcaattgccgtcgatctggcgttcgagttcgatcataaagtgatcgttgagcaagggatcaaaggtcgtgagatcgaatgcgcagttctgggcaacgacaatccgcaagccagcacctgtggagagatcgtactcaccagcgatttctatgcctacgacaccaagtacattgacgaagatggcgcgaaagtggtagttccggcagccattgcgccagaaatcaacgataagatccgggcgattgccgttcaggcttatcaaacgttgggatgcgcaggcatggcgcgtgtagacgtgtttttaaccccagagaacgaagtggtgatcaacgagatcaacaccctgcctggcttcactaatatcagtatgtatccgaagctgtggcaagccagcggtctgggttacaccgatctgatcacacgtttgattgaactggcgctggagcgtcacgctgcggataacgcattgaaaaccacaatggcggccgagaccgtagcc\n",
            ">ddlA_40L_CTC_52S_TCC\n",
            "catcatggtctcctatggaaaaactgcgggtaggaatcgtttttggtggtaaatcagcggaacatgaagtgtctctgcaatcggcaaaaaacattgtcgatgccattgataaaagtcgcttcgacgttgtgCTCctgggcattgataaacaagggcaatggcacgtcTCCgatgccagcaattatctgctaaatgcagacgatcctgcccatattgcgttgcgcccttcggcgaccagccttgcgcaggtgccaggtaaacatgagcatcagcttatcgacgcgcaaaacggtcagccgttgccgacggtggatgtcattttcccgattgtccacggtacgctgggcgaagatggttccttgcagggaatgctgcgggtcgccaatttaccgtttgtaggttctgatgttctggcttcagcagcctgtatggacaaagatgtcaccaaacgtctgctacgcgatgccgggctgaacattgcgccatttattaccctgacgcgcgccaatcgtcacaacattagttttgccgaagtggagtctaaactggggttaccactgtttgtaaaaccggctaatcagggctcttctgttggtgtcagcaaagtaaccagtgaagaacagtacgcaattgccgtcgatctggcgttcgagttcgatcataaagtgatcgttgagcaagggatcaaaggtcgtgagatcgaatgcgcagttctgggcaacgacaatccgcaagccagcacctgtggagagatcgtactcaccagcgatttctatgcctacgacaccaagtacattgacgaagatggcgcgaaagtggtagttccggcagccattgcgccagaaatcaacgataagatccgggcgattgccgttcaggcttatcaaacgttgggatgcgcaggcatggcgcgtgtagacgtgtttttaaccccagagaacgaagtggtgatcaacgagatcaacaccctgcctggcttcactaatatcagtatgtatccgaagctgtggcaagccagcggtctgggttacaccgatctgatcacacgtttgattgaactggcgctggagcgtcacgctgcggataacgcattgaaaaccacaatggcggccgagaccgtagcc\n",
            ">ddlA_40L_CTC_52S_TCA\n",
            "catcatggtctcctatggaaaaactgcgggtaggaatcgtttttggtggtaaatcagcggaacatgaagtgtctctgcaatcggcaaaaaacattgtcgatgccattgataaaagtcgcttcgacgttgtgCTCctgggcattgataaacaagggcaatggcacgtcTCAgatgccagcaattatctgctaaatgcagacgatcctgcccatattgcgttgcgcccttcggcgaccagccttgcgcaggtgccaggtaaacatgagcatcagcttatcgacgcgcaaaacggtcagccgttgccgacggtggatgtcattttcccgattgtccacggtacgctgggcgaagatggttccttgcagggaatgctgcgggtcgccaatttaccgtttgtaggttctgatgttctggcttcagcagcctgtatggacaaagatgtcaccaaacgtctgctacgcgatgccgggctgaacattgcgccatttattaccctgacgcgcgccaatcgtcacaacattagttttgccgaagtggagtctaaactggggttaccactgtttgtaaaaccggctaatcagggctcttctgttggtgtcagcaaagtaaccagtgaagaacagtacgcaattgccgtcgatctggcgttcgagttcgatcataaagtgatcgttgagcaagggatcaaaggtcgtgagatcgaatgcgcagttctgggcaacgacaatccgcaagccagcacctgtggagagatcgtactcaccagcgatttctatgcctacgacaccaagtacattgacgaagatggcgcgaaagtggtagttccggcagccattgcgccagaaatcaacgataagatccgggcgattgccgttcaggcttatcaaacgttgggatgcgcaggcatggcgcgtgtagacgtgtttttaaccccagagaacgaagtggtgatcaacgagatcaacaccctgcctggcttcactaatatcagtatgtatccgaagctgtggcaagccagcggtctgggttacaccgatctgatcacacgtttgattgaactggcgctggagcgtcacgctgcggataacgcattgaaaaccacaatggcggccgagaccgtagcc\n",
            ">ddlA_40L_CTC_52S_TCG\n",
            "catcatggtctcctatggaaaaactgcgggtaggaatcgtttttggtggtaaatcagcggaacatgaagtgtctctgcaatcggcaaaaaacattgtcgatgccattgataaaagtcgcttcgacgttgtgCTCctgggcattgataaacaagggcaatggcacgtcTCGgatgccagcaattatctgctaaatgcagacgatcctgcccatattgcgttgcgcccttcggcgaccagccttgcgcaggtgccaggtaaacatgagcatcagcttatcgacgcgcaaaacggtcagccgttgccgacggtggatgtcattttcccgattgtccacggtacgctgggcgaagatggttccttgcagggaatgctgcgggtcgccaatttaccgtttgtaggttctgatgttctggcttcagcagcctgtatggacaaagatgtcaccaaacgtctgctacgcgatgccgggctgaacattgcgccatttattaccctgacgcgcgccaatcgtcacaacattagttttgccgaagtggagtctaaactggggttaccactgtttgtaaaaccggctaatcagggctcttctgttggtgtcagcaaagtaaccagtgaagaacagtacgcaattgccgtcgatctggcgttcgagttcgatcataaagtgatcgttgagcaagggatcaaaggtcgtgagatcgaatgcgcagttctgggcaacgacaatccgcaagccagcacctgtggagagatcgtactcaccagcgatttctatgcctacgacaccaagtacattgacgaagatggcgcgaaagtggtagttccggcagccattgcgccagaaatcaacgataagatccgggcgattgccgttcaggcttatcaaacgttgggatgcgcaggcatggcgcgtgtagacgtgtttttaaccccagagaacgaagtggtgatcaacgagatcaacaccctgcctggcttcactaatatcagtatgtatccgaagctgtggcaagccagcggtctgggttacaccgatctgatcacacgtttgattgaactggcgctggagcgtcacgctgcggataacgcattgaaaaccacaatggcggccgagaccgtagcc\n",
            ">ddlA_40L_CTC_52S_AGT\n",
            "catcatggtctcctatggaaaaactgcgggtaggaatcgtttttggtggtaaatcagcggaacatgaagtgtctctgcaatcggcaaaaaacattgtcgatgccattgataaaagtcgcttcgacgttgtgCTCctgggcattgataaacaagggcaatggcacgtcAGTgatgccagcaattatctgctaaatgcagacgatcctgcccatattgcgttgcgcccttcggcgaccagccttgcgcaggtgccaggtaaacatgagcatcagcttatcgacgcgcaaaacggtcagccgttgccgacggtggatgtcattttcccgattgtccacggtacgctgggcgaagatggttccttgcagggaatgctgcgggtcgccaatttaccgtttgtaggttctgatgttctggcttcagcagcctgtatggacaaagatgtcaccaaacgtctgctacgcgatgccgggctgaacattgcgccatttattaccctgacgcgcgccaatcgtcacaacattagttttgccgaagtggagtctaaactggggttaccactgtttgtaaaaccggctaatcagggctcttctgttggtgtcagcaaagtaaccagtgaagaacagtacgcaattgccgtcgatctggcgttcgagttcgatcataaagtgatcgttgagcaagggatcaaaggtcgtgagatcgaatgcgcagttctgggcaacgacaatccgcaagccagcacctgtggagagatcgtactcaccagcgatttctatgcctacgacaccaagtacattgacgaagatggcgcgaaagtggtagttccggcagccattgcgccagaaatcaacgataagatccgggcgattgccgttcaggcttatcaaacgttgggatgcgcaggcatggcgcgtgtagacgtgtttttaaccccagagaacgaagtggtgatcaacgagatcaacaccctgcctggcttcactaatatcagtatgtatccgaagctgtggcaagccagcggtctgggttacaccgatctgatcacacgtttgattgaactggcgctggagcgtcacgctgcggataacgcattgaaaaccacaatggcggccgagaccgtagcc\n",
            ">ddlA_40L_CTA_52S_TCT\n",
            "catcatggtctcctatggaaaaactgcgggtaggaatcgtttttggtggtaaatcagcggaacatgaagtgtctctgcaatcggcaaaaaacattgtcgatgccattgataaaagtcgcttcgacgttgtgCTActgggcattgataaacaagggcaatggcacgtcTCTgatgccagcaattatctgctaaatgcagacgatcctgcccatattgcgttgcgcccttcggcgaccagccttgcgcaggtgccaggtaaacatgagcatcagcttatcgacgcgcaaaacggtcagccgttgccgacggtggatgtcattttcccgattgtccacggtacgctgggcgaagatggttccttgcagggaatgctgcgggtcgccaatttaccgtttgtaggttctgatgttctggcttcagcagcctgtatggacaaagatgtcaccaaacgtctgctacgcgatgccgggctgaacattgcgccatttattaccctgacgcgcgccaatcgtcacaacattagttttgccgaagtggagtctaaactggggttaccactgtttgtaaaaccggctaatcagggctcttctgttggtgtcagcaaagtaaccagtgaagaacagtacgcaattgccgtcgatctggcgttcgagttcgatcataaagtgatcgttgagcaagggatcaaaggtcgtgagatcgaatgcgcagttctgggcaacgacaatccgcaagccagcacctgtggagagatcgtactcaccagcgatttctatgcctacgacaccaagtacattgacgaagatggcgcgaaagtggtagttccggcagccattgcgccagaaatcaacgataagatccgggcgattgccgttcaggcttatcaaacgttgggatgcgcaggcatggcgcgtgtagacgtgtttttaaccccagagaacgaagtggtgatcaacgagatcaacaccctgcctggcttcactaatatcagtatgtatccgaagctgtggcaagccagcggtctgggttacaccgatctgatcacacgtttgattgaactggcgctggagcgtcacgctgcggataacgcattgaaaaccacaatggcggccgagaccgtagcc\n",
            ">ddlA_40L_CTA_52S_TCC\n",
            "catcatggtctcctatggaaaaactgcgggtaggaatcgtttttggtggtaaatcagcggaacatgaagtgtctctgcaatcggcaaaaaacattgtcgatgccattgataaaagtcgcttcgacgttgtgCTActgggcattgataaacaagggcaatggcacgtcTCCgatgccagcaattatctgctaaatgcagacgatcctgcccatattgcgttgcgcccttcggcgaccagccttgcgcaggtgccaggtaaacatgagcatcagcttatcgacgcgcaaaacggtcagccgttgccgacggtggatgtcattttcccgattgtccacggtacgctgggcgaagatggttccttgcagggaatgctgcgggtcgccaatttaccgtttgtaggttctgatgttctggcttcagcagcctgtatggacaaagatgtcaccaaacgtctgctacgcgatgccgggctgaacattgcgccatttattaccctgacgcgcgccaatcgtcacaacattagttttgccgaagtggagtctaaactggggttaccactgtttgtaaaaccggctaatcagggctcttctgttggtgtcagcaaagtaaccagtgaagaacagtacgcaattgccgtcgatctggcgttcgagttcgatcataaagtgatcgttgagcaagggatcaaaggtcgtgagatcgaatgcgcagttctgggcaacgacaatccgcaagccagcacctgtggagagatcgtactcaccagcgatttctatgcctacgacaccaagtacattgacgaagatggcgcgaaagtggtagttccggcagccattgcgccagaaatcaacgataagatccgggcgattgccgttcaggcttatcaaacgttgggatgcgcaggcatggcgcgtgtagacgtgtttttaaccccagagaacgaagtggtgatcaacgagatcaacaccctgcctggcttcactaatatcagtatgtatccgaagctgtggcaagccagcggtctgggttacaccgatctgatcacacgtttgattgaactggcgctggagcgtcacgctgcggataacgcattgaaaaccacaatggcggccgagaccgtagcc\n",
            ">ddlA_40L_CTA_52S_TCA\n",
            "catcatggtctcctatggaaaaactgcgggtaggaatcgtttttggtggtaaatcagcggaacatgaagtgtctctgcaatcggcaaaaaacattgtcgatgccattgataaaagtcgcttcgacgttgtgCTActgggcattgataaacaagggcaatggcacgtcTCAgatgccagcaattatctgctaaatgcagacgatcctgcccatattgcgttgcgcccttcggcgaccagccttgcgcaggtgccaggtaaacatgagcatcagcttatcgacgcgcaaaacggtcagccgttgccgacggtggatgtcattttcccgattgtccacggtacgctgggcgaagatggttccttgcagggaatgctgcgggtcgccaatttaccgtttgtaggttctgatgttctggcttcagcagcctgtatggacaaagatgtcaccaaacgtctgctacgcgatgccgggctgaacattgcgccatttattaccctgacgcgcgccaatcgtcacaacattagttttgccgaagtggagtctaaactggggttaccactgtttgtaaaaccggctaatcagggctcttctgttggtgtcagcaaagtaaccagtgaagaacagtacgcaattgccgtcgatctggcgttcgagttcgatcataaagtgatcgttgagcaagggatcaaaggtcgtgagatcgaatgcgcagttctgggcaacgacaatccgcaagccagcacctgtggagagatcgtactcaccagcgatttctatgcctacgacaccaagtacattgacgaagatggcgcgaaagtggtagttccggcagccattgcgccagaaatcaacgataagatccgggcgattgccgttcaggcttatcaaacgttgggatgcgcaggcatggcgcgtgtagacgtgtttttaaccccagagaacgaagtggtgatcaacgagatcaacaccctgcctggcttcactaatatcagtatgtatccgaagctgtggcaagccagcggtctgggttacaccgatctgatcacacgtttgattgaactggcgctggagcgtcacgctgcggataacgcattgaaaaccacaatggcggccgagaccgtagcc\n",
            ">ddlA_40L_CTA_52S_TCG\n",
            "catcatggtctcctatggaaaaactgcgggtaggaatcgtttttggtggtaaatcagcggaacatgaagtgtctctgcaatcggcaaaaaacattgtcgatgccattgataaaagtcgcttcgacgttgtgCTActgggcattgataaacaagggcaatggcacgtcTCGgatgccagcaattatctgctaaatgcagacgatcctgcccatattgcgttgcgcccttcggcgaccagccttgcgcaggtgccaggtaaacatgagcatcagcttatcgacgcgcaaaacggtcagccgttgccgacggtggatgtcattttcccgattgtccacggtacgctgggcgaagatggttccttgcagggaatgctgcgggtcgccaatttaccgtttgtaggttctgatgttctggcttcagcagcctgtatggacaaagatgtcaccaaacgtctgctacgcgatgccgggctgaacattgcgccatttattaccctgacgcgcgccaatcgtcacaacattagttttgccgaagtggagtctaaactggggttaccactgtttgtaaaaccggctaatcagggctcttctgttggtgtcagcaaagtaaccagtgaagaacagtacgcaattgccgtcgatctggcgttcgagttcgatcataaagtgatcgttgagcaagggatcaaaggtcgtgagatcgaatgcgcagttctgggcaacgacaatccgcaagccagcacctgtggagagatcgtactcaccagcgatttctatgcctacgacaccaagtacattgacgaagatggcgcgaaagtggtagttccggcagccattgcgccagaaatcaacgataagatccgggcgattgccgttcaggcttatcaaacgttgggatgcgcaggcatggcgcgtgtagacgtgtttttaaccccagagaacgaagtggtgatcaacgagatcaacaccctgcctggcttcactaatatcagtatgtatccgaagctgtggcaagccagcggtctgggttacaccgatctgatcacacgtttgattgaactggcgctggagcgtcacgctgcggataacgcattgaaaaccacaatggcggccgagaccgtagcc\n",
            ">ddlA_40L_CTA_52S_AGT\n",
            "catcatggtctcctatggaaaaactgcgggtaggaatcgtttttggtggtaaatcagcggaacatgaagtgtctctgcaatcggcaaaaaacattgtcgatgccattgataaaagtcgcttcgacgttgtgCTActgggcattgataaacaagggcaatggcacgtcAGTgatgccagcaattatctgctaaatgcagacgatcctgcccatattgcgttgcgcccttcggcgaccagccttgcgcaggtgccaggtaaacatgagcatcagcttatcgacgcgcaaaacggtcagccgttgccgacggtggatgtcattttcccgattgtccacggtacgctgggcgaagatggttccttgcagggaatgctgcgggtcgccaatttaccgtttgtaggttctgatgttctggcttcagcagcctgtatggacaaagatgtcaccaaacgtctgctacgcgatgccgggctgaacattgcgccatttattaccctgacgcgcgccaatcgtcacaacattagttttgccgaagtggagtctaaactggggttaccactgtttgtaaaaccggctaatcagggctcttctgttggtgtcagcaaagtaaccagtgaagaacagtacgcaattgccgtcgatctggcgttcgagttcgatcataaagtgatcgttgagcaagggatcaaaggtcgtgagatcgaatgcgcagttctgggcaacgacaatccgcaagccagcacctgtggagagatcgtactcaccagcgatttctatgcctacgacaccaagtacattgacgaagatggcgcgaaagtggtagttccggcagccattgcgccagaaatcaacgataagatccgggcgattgccgttcaggcttatcaaacgttgggatgcgcaggcatggcgcgtgtagacgtgtttttaaccccagagaacgaagtggtgatcaacgagatcaacaccctgcctggcttcactaatatcagtatgtatccgaagctgtggcaagccagcggtctgggttacaccgatctgatcacacgtttgattgaactggcgctggagcgtcacgctgcggataacgcattgaaaaccacaatggcggccgagaccgtagcc\n"
          ]
        }
      ]
    },
    {
      "cell_type": "code",
      "source": [
        "# Run main script\n",
        "!python main.py"
      ],
      "metadata": {
        "colab": {
          "base_uri": "https://localhost:8080/"
        },
        "id": "ANPUVSEj9MLD",
        "outputId": "e56d9a76-3f28-4461-bad4-3f4e9cb8e515"
      },
      "id": "ANPUVSEj9MLD",
      "execution_count": null,
      "outputs": [
        {
          "output_type": "stream",
          "name": "stdout",
          "text": [
            "Hello from double-syn-muts-ddla :D\n",
            "loeaded IDT primers in a plate:\n",
            "  Plate Name Payment Method  ...  Tm  Well Barcode\n",
            "0     Sheet1      250513_01  ...  69           NaN\n",
            "1     Sheet1      250513_01  ...  68           NaN\n",
            "2     Sheet1      250513_01  ...  69           NaN\n",
            "3     Sheet1      250513_01  ...  69           NaN\n",
            "4     Sheet1      250513_01  ...  69           NaN\n",
            "\n",
            "[5 rows x 19 columns]\n",
            "Input to make stock primers of 100uM in the original plate using Biomek i7:\n",
            "                          Name Source Plate  ... Destination Well Volume\n",
            "0  Fw_Frag_gg_2_40L_wt_52S_AGT        Water  ...               A8   59.8\n",
            "1  Fw_Frag_gg_2_40L_wt_52S_TCT        Water  ...               B8   77.2\n",
            "2  Fw_Frag_gg_2_40L_wt_52S_TCA        Water  ...               C8  239.1\n",
            "3  Fw_Frag_gg_2_40L_wt_52S_TCC        Water  ...               D8   69.6\n",
            "4  Fw_Frag_gg_2_40L_wt_52S_TCG        Water  ...               E8   55.9\n",
            "\n",
            "[5 rows x 6 columns]\n",
            "Input to make working solution of primers (10 uM) in microtitter plate using Biomek i7:\n",
            "                          Name   Source Plate  ... Destination Well Volume\n",
            "0  Fw_Frag_gg_2_40L_wt_52S_AGT  stock_primers  ...               A1   20.0\n",
            "1  Fw_Frag_gg_2_40L_wt_52S_TCT  stock_primers  ...               B1   20.0\n",
            "2  Fw_Frag_gg_2_40L_wt_52S_TCA  stock_primers  ...               C1   20.0\n",
            "3  Fw_Frag_gg_2_40L_wt_52S_TCC  stock_primers  ...               D1   20.0\n",
            "4  Fw_Frag_gg_2_40L_wt_52S_TCG  stock_primers  ...               E1   20.0\n",
            "\n",
            "[5 rows x 6 columns]\n",
            "USER: outputs/working_primers.csv and outputs/working_primers_biomek.csv\n",
            "Input to combine 2 fragments for gene assemble using Biomeki7:\n",
            "                                                Name  ... Volume\n",
            "0  Fw_Frag_gg_2_40L_wt_52S_AGT__Rv_Frag_gg_1_40L_...  ...      5\n",
            "1  Fw_Frag_gg_2_40L_wt_52S_AGT__Rv_Frag_gg_1_40L_...  ...      5\n",
            "2  Fw_Frag_gg_2_40L_wt_52S_TCT__Rv_Frag_gg_1_40L_...  ...      5\n",
            "3  Fw_Frag_gg_2_40L_wt_52S_TCT__Rv_Frag_gg_1_40L_...  ...      5\n",
            "4  Fw_Frag_gg_2_40L_wt_52S_TCA__Rv_Frag_gg_1_40L_...  ...      5\n",
            "\n",
            "[5 rows x 6 columns]\n",
            "Congratz \\o/ you have successfully generated the primers and the input files necessary \n",
            "to make double mutants in your gene using the Biomek i7 :D\n"
          ]
        }
      ]
    }
  ],
  "metadata": {
    "language_info": {
      "name": "python"
    },
    "colab": {
      "provenance": []
    },
    "kernelspec": {
      "name": "python3",
      "display_name": "Python 3"
    }
  },
  "nbformat": 4,
  "nbformat_minor": 5
}