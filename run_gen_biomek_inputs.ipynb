{
 "cells": [
  {
   "cell_type": "markdown",
   "id": "f160bbd2",
   "metadata": {},
   "source": [
    "Notebook to run the hands-on scripts to generate inputs file for double mutagenesis mutations using the automated pipetting biomek."
   ]
  },
  {
   "cell_type": "code",
   "execution_count": null,
   "id": "be673e86",
   "metadata": {
    "vscode": {
     "languageId": "plaintext"
    }
   },
   "outputs": [],
   "source": [
    "# Cell 1: Mount Google Drive\n",
    "from google.colab import drive\n",
    "drive.mount('/content/drive')"
   ]
  },
  {
   "cell_type": "code",
   "execution_count": null,
   "id": "52f67b39",
   "metadata": {
    "vscode": {
     "languageId": "plaintext"
    }
   },
   "outputs": [],
   "source": [
    "# Cell 2: Navigate to the \"hands-on\" project directory\n",
    "import os\n",
    "\n",
    "# Set path to your project folder inside Google Drive\n",
    "project_path = \"/content/drive/MyDrive/Lund_Andres_Lab/hands_on\"\n",
    "\n",
    "# Change working directory\n",
    "os.chdir(project_path)\n",
    "\n",
    "# Verify\n",
    "!ls"
   ]
  },
  {
   "cell_type": "code",
   "execution_count": null,
   "id": "0ce06e4b",
   "metadata": {
    "vscode": {
     "languageId": "plaintext"
    }
   },
   "outputs": [],
   "source": []
  }
 ],
 "metadata": {
  "language_info": {
   "name": "python"
  }
 },
 "nbformat": 4,
 "nbformat_minor": 5
}
